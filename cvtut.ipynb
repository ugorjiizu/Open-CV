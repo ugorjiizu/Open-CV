{
 "cells": [
  {
   "cell_type": "code",
   "execution_count": 1,
   "metadata": {},
   "outputs": [
    {
     "name": "stdout",
     "output_type": "stream",
     "text": [
      "Done\n"
     ]
    }
   ],
   "source": [
    "import cv2\n",
    "print('Done')"
   ]
  },
  {
   "cell_type": "code",
   "execution_count": 2,
   "metadata": {},
   "outputs": [
    {
     "data": {
      "text/plain": [
       "-1"
      ]
     },
     "execution_count": 2,
     "metadata": {},
     "output_type": "execute_result"
    }
   ],
   "source": [
    "img = cv2.imread('Resources/Lenna.png')\n",
    "cv2.imshow('Image', img)\n",
    "cv2.waitKey(0)"
   ]
  },
  {
   "cell_type": "code",
   "execution_count": null,
   "metadata": {},
   "outputs": [],
   "source": [
    "cap = cv2.VideoCapture('Resources/video2.mp4')\n",
    "while True:\n",
    "    success, img = cap.read()\n",
    "    cv2.imshow('Video', img)\n",
    "    if cv2.waitKey(1) & 0xFF == ord('q'):\n",
    "        break"
   ]
  },
  {
   "cell_type": "code",
   "execution_count": 12,
   "metadata": {},
   "outputs": [
    {
     "name": "stdout",
     "output_type": "stream",
     "text": [
      "2024  is a leap year\n",
      "2024  is a Leap Year\n"
     ]
    }
   ],
   "source": [
    "year = int(input('Enter Year:'))\n",
    "\n",
    "if year%4==0:\n",
    "    if year%100==0:\n",
    "        if year%400==0:\n",
    "            print(str(year), ' is a leap year')\n",
    "        else:\n",
    "            print(str(year), ' is not a leap year')\n",
    "    print(str(year), ' is a leap year')        \n",
    "else:\n",
    "    print(str(year), 'is not a leap year')\n",
    "\n",
    "if ((year%4==0) or (year%100!=0) and (year%400==0)):\n",
    "    print(str(year),' is a Leap Year')\n",
    "else:\n",
    "    print(str(year),' is not a Leap Year')"
   ]
  }
 ],
 "metadata": {
  "kernelspec": {
   "display_name": "Python 3.7.7 64-bit",
   "language": "python",
   "name": "python3"
  },
  "language_info": {
   "codemirror_mode": {
    "name": "ipython",
    "version": 3
   },
   "file_extension": ".py",
   "mimetype": "text/x-python",
   "name": "python",
   "nbconvert_exporter": "python",
   "pygments_lexer": "ipython3",
   "version": "3.7.7"
  },
  "orig_nbformat": 4,
  "vscode": {
   "interpreter": {
    "hash": "cdfc0e0d1eba7988f08aa2ab42bc8c5743d53dd9b7d2f12138af97eb682842c7"
   }
  }
 },
 "nbformat": 4,
 "nbformat_minor": 2
}
